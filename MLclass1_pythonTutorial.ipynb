{
  "cells": [
    {
      "attachments": {},
      "cell_type": "markdown",
      "metadata": {},
      "source": [
        "# Python Tutorial\n",
        "\n",
        "MLclass1_pythonTutorial --- MachineLearning Course TA class --- Shahid Beheshti University --- [Sajjad Rezvani Khaldi](https://github.com/sajjadrezvani)\n"
      ]
    },
    {
      "cell_type": "code",
      "execution_count": null,
      "metadata": {
        "colab": {
          "base_uri": "https://localhost:8080/"
        },
        "id": "816t1q6L2m1N",
        "outputId": "def1e049-6685-400a-abdd-805c6996eb4e"
      },
      "outputs": [
        {
          "name": "stdout",
          "output_type": "stream",
          "text": [
            "enter your number: 87\n",
            "87\n"
          ]
        }
      ],
      "source": [
        "input1 = input('enter your number: ')\n",
        "print( input1 )"
      ]
    },
    {
      "cell_type": "markdown",
      "metadata": {
        "id": "NIwVIjuaYfW4"
      },
      "source": [
        "string"
      ]
    },
    {
      "cell_type": "code",
      "execution_count": null,
      "metadata": {
        "colab": {
          "base_uri": "https://localhost:8080/"
        },
        "id": "mZGIhqmUAo22",
        "outputId": "b73144b8-e0a6-4497-fd1a-c0254eb79d65"
      },
      "outputs": [
        {
          "name": "stdout",
          "output_type": "stream",
          "text": [
            " hello mammad how are you?\n"
          ]
        }
      ],
      "source": [
        "name = 'mammad'\n",
        "print( f' hello {name} how are you?')"
      ]
    },
    {
      "cell_type": "code",
      "execution_count": null,
      "metadata": {
        "colab": {
          "base_uri": "https://localhost:8080/",
          "height": 36
        },
        "id": "JrL-bnP85zSv",
        "outputId": "585b901e-1fad-4f8d-f3fa-3fa743ae187d"
      },
      "outputs": [
        {
          "data": {
            "application/vnd.google.colaboratory.intrinsic+json": {
              "type": "string"
            },
            "text/plain": [
              "'?uoy era woh'"
            ]
          },
          "execution_count": 18,
          "metadata": {},
          "output_type": "execute_result"
        }
      ],
      "source": [
        "str1 = '  how are you? '\n",
        "str1[2:8:]\n",
        "str1[::-1]"
      ]
    },
    {
      "cell_type": "code",
      "execution_count": null,
      "metadata": {
        "colab": {
          "base_uri": "https://localhost:8080/",
          "height": 36
        },
        "id": "eY1Xbd2G-bLG",
        "outputId": "e4d1caf9-ccb6-41d3-9c3a-7b3b6df5a740"
      },
      "outputs": [
        {
          "data": {
            "application/vnd.google.colaboratory.intrinsic+json": {
              "type": "string"
            },
            "text/plain": [
              "'how are you?'"
            ]
          },
          "execution_count": 63,
          "metadata": {},
          "output_type": "execute_result"
        }
      ],
      "source": [
        "list(str1)\n",
        "str1*2\n",
        "str1.index('you')\n",
        "num = str1.count('o')\n",
        "str1.split(' ')\n",
        "str1.upper()\n",
        "str1.replace('o','a')\n",
        "str1.strip()"
      ]
    },
    {
      "cell_type": "markdown",
      "metadata": {
        "id": "ddFB7O7H8x0-"
      },
      "source": [
        "list"
      ]
    },
    {
      "cell_type": "code",
      "execution_count": null,
      "metadata": {
        "colab": {
          "base_uri": "https://localhost:8080/"
        },
        "id": "663biP7l46Y5",
        "outputId": "07cac448-9e5b-4045-9d8d-dcb7b21e217e"
      },
      "outputs": [
        {
          "data": {
            "text/plain": [
              "['ali', 'mahsa', 'sajjad', 'sara', 'hamid']"
            ]
          },
          "execution_count": 41,
          "metadata": {},
          "output_type": "execute_result"
        }
      ],
      "source": [
        "ls = ['ali' , 'mahsa', 'hamed','sara','hamid']\n",
        "ls2 = ['hossein', 'ghazal']\n",
        "ls[2]\n",
        "ls[2:]\n",
        "ls[:4]\n",
        "ls[::2]\n",
        "ls[1::2]\n",
        "ls[::-1]\n",
        "ls[2]= 'sajjad'\n",
        "ls"
      ]
    },
    {
      "cell_type": "code",
      "execution_count": null,
      "metadata": {
        "colab": {
          "base_uri": "https://localhost:8080/"
        },
        "id": "AVpzYO6D9TuZ",
        "outputId": "3bd65c88-097c-4349-a583-6ea277ac32c1"
      },
      "outputs": [
        {
          "data": {
            "text/plain": [
              "{'ali', 'hamid', 'mahsa', 'sajjad', 'sara', 'sheida'}"
            ]
          },
          "execution_count": 87,
          "metadata": {},
          "output_type": "execute_result"
        }
      ],
      "source": [
        "# ls.append('sheida')\n",
        "mylist = ls + ls2\n",
        "# print(mylist)\n",
        "mylist.index('mahsa')\n",
        "mylist.count('sheida')\n",
        "ls4 = ls*2\n",
        "set(ls4)"
      ]
    },
    {
      "cell_type": "code",
      "execution_count": null,
      "metadata": {
        "colab": {
          "base_uri": "https://localhost:8080/"
        },
        "id": "0pXmLjd4A_af",
        "outputId": "7a6a2b59-7f32-48f6-efd6-d946a0d862c4"
      },
      "outputs": [
        {
          "data": {
            "text/plain": [
              "array([23, 44, 54])"
            ]
          },
          "execution_count": 77,
          "metadata": {},
          "output_type": "execute_result"
        }
      ],
      "source": [
        "import numpy as np\n",
        "\n",
        "ls2 = [ 23 , 44, 54]\n",
        "min(ls2)\n",
        "max(ls2)\n",
        "sum(ls2)\n",
        "np.array(ls2)"
      ]
    },
    {
      "cell_type": "markdown",
      "metadata": {
        "id": "tEdtHv638zrW"
      },
      "source": [
        "dictionary"
      ]
    },
    {
      "cell_type": "code",
      "execution_count": null,
      "metadata": {
        "colab": {
          "base_uri": "https://localhost:8080/"
        },
        "id": "xBWKvqhv6l5T",
        "outputId": "fb5ea3d2-0fbb-4de2-8034-e95c6efc903b"
      },
      "outputs": [
        {
          "data": {
            "text/plain": [
              "('hamed', [74, 44])"
            ]
          },
          "execution_count": 37,
          "metadata": {},
          "output_type": "execute_result"
        }
      ],
      "source": [
        "dic = { 'ali' : 22 , 'mahsa' : 18 , 'hamed': [74 , 44]}\n",
        "dic['mahsa']\n",
        "dic['hamed']\n",
        "lst = list(dic.values())\n",
        "lst[1]\n",
        "# type(dic.values())\n",
        "dic.keys()\n",
        "list(dic.items())[2]"
      ]
    },
    {
      "cell_type": "code",
      "execution_count": null,
      "metadata": {
        "colab": {
          "base_uri": "https://localhost:8080/"
        },
        "id": "BFur_63y7k3p",
        "outputId": "5bb7a9cd-bdea-4003-c7fa-6008f4f59b3a"
      },
      "outputs": [
        {
          "data": {
            "text/plain": [
              "list"
            ]
          },
          "execution_count": 28,
          "metadata": {},
          "output_type": "execute_result"
        }
      ],
      "source": [
        "type(lst)"
      ]
    },
    {
      "cell_type": "code",
      "execution_count": null,
      "metadata": {
        "id": "TK0_LppE8vep"
      },
      "outputs": [],
      "source": [
        "mytuple = ('ali','hossein')"
      ]
    },
    {
      "cell_type": "code",
      "execution_count": null,
      "metadata": {
        "colab": {
          "base_uri": "https://localhost:8080/"
        },
        "id": "QS8qZKDT_UVW",
        "outputId": "70008ebf-7858-4b50-acfd-b5fee04ac55c"
      },
      "outputs": [
        {
          "data": {
            "text/plain": [
              "400000.0"
            ]
          },
          "execution_count": 57,
          "metadata": {},
          "output_type": "execute_result"
        }
      ],
      "source": [
        "a = 4e5\n",
        "a"
      ]
    },
    {
      "cell_type": "markdown",
      "metadata": {
        "id": "vm3GTE_hYlxp"
      },
      "source": [
        "if, loop, functions"
      ]
    },
    {
      "cell_type": "code",
      "execution_count": null,
      "metadata": {
        "colab": {
          "base_uri": "https://localhost:8080/"
        },
        "id": "ncj4fVMEAPwZ",
        "outputId": "54bd2719-dc52-42fa-82b9-7b9210888098"
      },
      "outputs": [
        {
          "name": "stdout",
          "output_type": "stream",
          "text": [
            "thats right\n"
          ]
        }
      ],
      "source": [
        "b = 3\n",
        "if a == 5 and b == 3:\n",
        "    print('hi')\n",
        "elif a == 4e5:\n",
        "    print('thats right')\n",
        "else : \n",
        "    print('by')"
      ]
    },
    {
      "cell_type": "code",
      "execution_count": null,
      "metadata": {
        "colab": {
          "base_uri": "https://localhost:8080/"
        },
        "id": "44XTcGgPCBLQ",
        "outputId": "ca9bc61e-a0f8-40ec-f6cc-4bac0626bd80"
      },
      "outputs": [
        {
          "name": "stdout",
          "output_type": "stream",
          "text": [
            "0 h\n",
            "1 o\n",
            "2 w\n",
            "3  \n"
          ]
        }
      ],
      "source": [
        "for i,j in enumerate(str1):\n",
        "    if j == 'a':\n",
        "        break\n",
        "    print(i,j)"
      ]
    },
    {
      "cell_type": "code",
      "execution_count": null,
      "metadata": {
        "colab": {
          "base_uri": "https://localhost:8080/"
        },
        "id": "13I-TNGCCneL",
        "outputId": "569d392a-b541-4f0c-a731-3c71348bf6fe"
      },
      "outputs": [
        {
          "data": {
            "text/plain": [
              "9"
            ]
          },
          "execution_count": 82,
          "metadata": {},
          "output_type": "execute_result"
        }
      ],
      "source": [
        "def myfunction(a,b):\n",
        "    return a+b \n",
        "\n",
        "myfunction(4,5)"
      ]
    },
    {
      "cell_type": "code",
      "execution_count": null,
      "metadata": {
        "colab": {
          "base_uri": "https://localhost:8080/"
        },
        "id": "RQ7MUvZwEXXI",
        "outputId": "f06c205d-495f-4988-8ec4-be2da36e8b41"
      },
      "outputs": [
        {
          "name": "stdout",
          "output_type": "stream",
          "text": [
            "enter your denum:1\n",
            "<class 'int'>\n"
          ]
        }
      ],
      "source": [
        "denum = int(input('enter your denum:'))\n",
        "print(type(denum))\n",
        "if denum == 0 : \n",
        "    raise ValueError('shit happend')"
      ]
    },
    {
      "cell_type": "code",
      "execution_count": null,
      "metadata": {
        "colab": {
          "base_uri": "https://localhost:8080/"
        },
        "id": "qRLQe598FCEG",
        "outputId": "c888b6b9-05b4-4cec-a600-72ca0f506e20"
      },
      "outputs": [
        {
          "name": "stdout",
          "output_type": "stream",
          "text": [
            "1\n",
            "2\n",
            "3\n",
            "4\n",
            "5\n",
            "6\n",
            "7\n",
            "8\n",
            "9\n",
            "10\n"
          ]
        }
      ],
      "source": [
        "a = 0\n",
        "while a<10:\n",
        "    a+=1\n",
        "    print(a)\n"
      ]
    },
    {
      "cell_type": "code",
      "execution_count": null,
      "metadata": {
        "colab": {
          "base_uri": "https://localhost:8080/"
        },
        "id": "5C5b-a3PFmXI",
        "outputId": "ec221b0b-8799-484f-8b26-7c580537e389"
      },
      "outputs": [
        {
          "name": "stdout",
          "output_type": "stream",
          "text": [
            "Help on built-in function max in module builtins:\n",
            "\n",
            "max(...)\n",
            "    max(iterable, *[, default=obj, key=func]) -> value\n",
            "    max(arg1, arg2, *args, *[, key=func]) -> value\n",
            "    \n",
            "    With a single iterable argument, return its biggest item. The\n",
            "    default keyword-only argument specifies an object to return if\n",
            "    the provided iterable is empty.\n",
            "    With two or more arguments, return the largest argument.\n",
            "\n"
          ]
        }
      ],
      "source": [
        "help(max)"
      ]
    },
    {
      "cell_type": "code",
      "execution_count": null,
      "metadata": {
        "colab": {
          "base_uri": "https://localhost:8080/"
        },
        "id": "R11ojqy9GUdR",
        "outputId": "b397001f-26e7-4c76-f2a7-1bc5c32be5f7"
      },
      "outputs": [
        {
          "data": {
            "text/plain": [
              "True"
            ]
          },
          "execution_count": 101,
          "metadata": {},
          "output_type": "execute_result"
        }
      ],
      "source": [
        "1==2 and 2==3 or 4==4"
      ]
    },
    {
      "cell_type": "markdown",
      "metadata": {
        "id": "9Zy9-rotZbM6"
      },
      "source": [
        "end of session one"
      ]
    }
  ],
  "metadata": {
    "colab": {
      "provenance": []
    },
    "kernelspec": {
      "display_name": "Python 3",
      "name": "python3"
    },
    "language_info": {
      "name": "python"
    }
  },
  "nbformat": 4,
  "nbformat_minor": 0
}
